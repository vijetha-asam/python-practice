{
 "cells": [
  {
   "cell_type": "code",
   "execution_count": 14,
   "id": "e335af11-6402-4d93-9442-475b2bb79b96",
   "metadata": {},
   "outputs": [
    {
     "name": "stdout",
     "output_type": "stream",
     "text": [
      "Welcome to python session\n"
     ]
    }
   ],
   "source": [
    "#print statment for \" Welcome to python session\"\n",
    "x= \"Welcome to\"\n",
    "y= \"python\"\n",
    "z= \"session\"\n",
    "print(x,y,z)"
   ]
  },
  {
   "cell_type": "code",
   "execution_count": 16,
   "id": "5ee1b488-18b8-48fa-9b42-8677df083378",
   "metadata": {},
   "outputs": [
    {
     "ename": "SyntaxError",
     "evalue": "invalid decimal literal (2404004762.py, line 3)",
     "output_type": "error",
     "traceback": [
      "\u001b[1;36m  Cell \u001b[1;32mIn[16], line 3\u001b[1;36m\u001b[0m\n\u001b[1;33m    2nd_class=\"Pandas\"\u001b[0m\n\u001b[1;37m    ^\u001b[0m\n\u001b[1;31mSyntaxError\u001b[0m\u001b[1;31m:\u001b[0m invalid decimal literal\n"
     ]
    }
   ],
   "source": [
    "# Create variable \"2nd-class\" and assign it a value of \"Pandas\"(should give error)\n",
    "\n",
    "2nd_class=\"Pandas\"\n",
    "print(2nd_class)\n"
   ]
  },
  {
   "cell_type": "code",
   "execution_count": 18,
   "id": "068a2a8b-5012-4226-a398-107f44812608",
   "metadata": {},
   "outputs": [
    {
     "name": "stdout",
     "output_type": "stream",
     "text": [
      "10\n"
     ]
    },
    {
     "data": {
      "text/plain": [
       "float"
      ]
     },
     "execution_count": 18,
     "metadata": {},
     "output_type": "execute_result"
    }
   ],
   "source": [
    "#Cast a float number into integer\n",
    "number=10.5\n",
    "number_cast=int(number)\n",
    "print(number_cast)\n",
    "type(number)\n"
   ]
  },
  {
   "cell_type": "code",
   "execution_count": 24,
   "id": "9da37bde-97c7-4837-92df-e1e4ae36c0bb",
   "metadata": {},
   "outputs": [
    {
     "ename": "TypeError",
     "evalue": "unsupported operand type(s) for +: 'int' and 'str'",
     "output_type": "error",
     "traceback": [
      "\u001b[1;31m---------------------------------------------------------------------------\u001b[0m",
      "\u001b[1;31mTypeError\u001b[0m                                 Traceback (most recent call last)",
      "Cell \u001b[1;32mIn[24], line 5\u001b[0m\n\u001b[0;32m      3\u001b[0m name\u001b[38;5;241m=\u001b[39m\u001b[38;5;124m\"\u001b[39m\u001b[38;5;124mPython\u001b[39m\u001b[38;5;124m\"\u001b[39m\n\u001b[0;32m      4\u001b[0m \u001b[38;5;66;03m#concatination\u001b[39;00m\n\u001b[1;32m----> 5\u001b[0m \u001b[38;5;28mprint\u001b[39m(number\u001b[38;5;241m+\u001b[39mname)\n",
      "\u001b[1;31mTypeError\u001b[0m: unsupported operand type(s) for +: 'int' and 'str'"
     ]
    }
   ],
   "source": [
    "#print a number and string using '+'(should give error)\n",
    "number=3\n",
    "name=\"Python\"\n",
    "#concatination\n",
    "print(number+name)"
   ]
  },
  {
   "cell_type": "code",
   "execution_count": 26,
   "id": "875b4006-b17b-492e-8ef7-230f92fc1a34",
   "metadata": {},
   "outputs": [
    {
     "name": "stdout",
     "output_type": "stream",
     "text": [
      "welcome to Python 3\n"
     ]
    }
   ],
   "source": [
    "#print using format\n",
    "print(\"welcome to {0} {1}\".format(name,number))\n"
   ]
  },
  {
   "cell_type": "code",
   "execution_count": 28,
   "id": "f3a8f1a5-650b-48ba-bc23-15aca3c9c4fd",
   "metadata": {},
   "outputs": [
    {
     "name": "stdout",
     "output_type": "stream",
     "text": [
      "welcome to 3 Python\n"
     ]
    }
   ],
   "source": [
    "#print using F-string\n",
    "print(f'welcome to {number} {name}')"
   ]
  },
  {
   "cell_type": "code",
   "execution_count": 32,
   "id": "057460e8-ad1f-47f4-beef-3368dbf82f2f",
   "metadata": {},
   "outputs": [
    {
     "name": "stdout",
     "output_type": "stream",
     "text": [
      "full  name is first last\n"
     ]
    }
   ],
   "source": [
    "#print using F-string\n",
    "firstName=\"first\"\n",
    "lastName=\"last\"\n",
    "print(f'full  name is {firstName} {lastName}')"
   ]
  },
  {
   "cell_type": "code",
   "execution_count": 43,
   "id": "2fee0e8d-0c0f-413d-9e36-f3d9368cc119",
   "metadata": {},
   "outputs": [
    {
     "name": "stdout",
     "output_type": "stream",
     "text": [
      "hython\n"
     ]
    }
   ],
   "source": [
    "#Replace \"p\" with \"h\" in the string \"python\" using replace function\n",
    "name=\"python\"\n",
    "new_name= name.replace(\"p\",\"h\")\n",
    "print(new_name)"
   ]
  },
  {
   "cell_type": "code",
   "execution_count": 45,
   "id": "c2e24c10-70aa-41fc-bdb9-ce0a70ce6f0a",
   "metadata": {},
   "outputs": [
    {
     "name": "stdout",
     "output_type": "stream",
     "text": [
      "['pandas', 'numpy', 'matplot', 'scipy']\n"
     ]
    }
   ],
   "source": [
    "#Remove 'seaborn' from given libraries \n",
    "libraries=['pandas','numpy','seaborn','matplot','scipy']\n",
    "libraries.remove('seaborn')\n",
    "print(libraries)"
   ]
  },
  {
   "cell_type": "code",
   "execution_count": 47,
   "id": "2db9e96e-ee7b-4e95-8355-888fe38a6527",
   "metadata": {},
   "outputs": [
    {
     "name": "stdout",
     "output_type": "stream",
     "text": [
      "[0, 3, 50, 100, 200, 300]\n"
     ]
    }
   ],
   "source": [
    "#Sort the list in descending order\n",
    "list=[100,300,50,0,200,3]\n",
    "list.sort()\n",
    "print(list)\n"
   ]
  },
  {
   "cell_type": "code",
   "execution_count": 34,
   "id": "12096769-64ee-44e2-8f68-ff92fee53b7b",
   "metadata": {},
   "outputs": [
    {
     "name": "stdout",
     "output_type": "stream",
     "text": [
      "Vijetha Asam SDET137\n"
     ]
    }
   ],
   "source": [
    "#Print your name and batch code\n",
    "print(\"Vijetha Asam SDET137\")"
   ]
  },
  {
   "cell_type": "code",
   "execution_count": 38,
   "id": "22e04f65-5971-4444-82f9-3293d7c766c5",
   "metadata": {},
   "outputs": [
    {
     "name": "stdout",
     "output_type": "stream",
     "text": [
      "snoisseS nohtyP\n"
     ]
    }
   ],
   "source": [
    "name=\"Python Sessions\"\n",
    "reverse_name=name[::-1]\n",
    "print(reverse_name)"
   ]
  },
  {
   "cell_type": "code",
   "execution_count": 40,
   "id": "e50d66d9-eefe-420b-86c6-8d9ad9b90f78",
   "metadata": {},
   "outputs": [
    {
     "name": "stdout",
     "output_type": "stream",
     "text": [
      "PYTHON SESSIONS\n"
     ]
    }
   ],
   "source": [
    "print(name.upper())"
   ]
  },
  {
   "cell_type": "code",
   "execution_count": 72,
   "id": "8452d18f-1088-4c9f-a04d-4895c73b39e6",
   "metadata": {},
   "outputs": [
    {
     "data": {
      "text/plain": [
       "{'firstName': 'Vijetha', 'lastname': 'Asam', 'track': 'SDET', 'batch': 137}"
      ]
     },
     "execution_count": 72,
     "metadata": {},
     "output_type": "execute_result"
    }
   ],
   "source": [
    "#Creating a dictionary \n",
    "My_info={\n",
    "    \"firstName\":\"Vijetha\",\n",
    "    \"lastname\":\"Asam\",\n",
    "    \"track\":\"SDET\",\n",
    "    \"batch\":137\n",
    "}\n",
    "My_info"
   ]
  },
  {
   "cell_type": "code",
   "execution_count": 68,
   "id": "abe5a86e-0323-4b4a-9330-251fd1aef47b",
   "metadata": {},
   "outputs": [
    {
     "data": {
      "text/plain": [
       "dict_keys(['firstName', 'lastname', 'track', 'batch'])"
      ]
     },
     "execution_count": 68,
     "metadata": {},
     "output_type": "execute_result"
    }
   ],
   "source": [
    "#Print dictionary keys\n",
    "My_info.keys()"
   ]
  },
  {
   "cell_type": "code",
   "execution_count": 70,
   "id": "e88969e6-d7ad-494d-99ae-463b4cd646b1",
   "metadata": {},
   "outputs": [
    {
     "data": {
      "text/plain": [
       "dict_values(['Vijetha', 'Asam', 'SDET', 137])"
      ]
     },
     "execution_count": 70,
     "metadata": {},
     "output_type": "execute_result"
    }
   ],
   "source": [
    "#print dictionary values\n",
    "My_info.values()"
   ]
  },
  {
   "cell_type": "code",
   "execution_count": 1,
   "id": "888e4fac-56b4-43be-b955-611460684e99",
   "metadata": {},
   "outputs": [
    {
     "name": "stdout",
     "output_type": "stream",
     "text": [
      "eight is greater than three\n"
     ]
    }
   ],
   "source": [
    "#Indentation(giving space while writing print)\n",
    "if 8>3:\n",
    "    print(\"eight is greater than three\")\n",
    "    "
   ]
  },
  {
   "cell_type": "code",
   "execution_count": 6,
   "id": "a680ad96-494f-4427-b7bb-aa033e7f61a7",
   "metadata": {},
   "outputs": [
    {
     "ename": "IndentationError",
     "evalue": "unindent does not match any outer indentation level (<string>, line 4)",
     "output_type": "error",
     "traceback": [
      "\u001b[1;36m  File \u001b[1;32m<string>:4\u001b[1;36m\u001b[0m\n\u001b[1;33m    if 5>3:\u001b[0m\n\u001b[1;37m           ^\u001b[0m\n\u001b[1;31mIndentationError\u001b[0m\u001b[1;31m:\u001b[0m unindent does not match any outer indentation level\n"
     ]
    }
   ],
   "source": [
    "#syntax error(for indentation)\n",
    "if 5>3:\n",
    "    print(\"5 greater than 3\")\n",
    " if 5>3:\n",
    "           print(\"5 greater than 3\")"
   ]
  },
  {
   "cell_type": "code",
   "execution_count": 10,
   "id": "84efde7e-7cd3-46ee-9991-cb57f4863115",
   "metadata": {},
   "outputs": [
    {
     "name": "stdout",
     "output_type": "stream",
     "text": [
      "3\n",
      "3.0\n",
      "string\n"
     ]
    }
   ],
   "source": [
    "\"\"\"\n",
    "casting(specifically mentioning the variables)\"\"\"\n",
    "x=int(3)\n",
    "y=float(3.0)\n",
    "z=str(\"string\")\n",
    "print(x)\n",
    "print(y)\n",
    "print(z)"
   ]
  },
  {
   "cell_type": "code",
   "execution_count": 14,
   "id": "064fc6d2-06b8-4bc1-b7c8-13d2cc6b0ec9",
   "metadata": {},
   "outputs": [
    {
     "name": "stdout",
     "output_type": "stream",
     "text": [
      "<class 'int'>\n",
      "<class 'str'>\n",
      "name\n"
     ]
    }
   ],
   "source": [
    "# Get the type of variable.Double coates and single coats are same\n",
    "x=4\n",
    "y=\"name\"\n",
    "z='name'\n",
    "print(type(x))\n",
    "print(type(y))\n",
    "print(z)"
   ]
  },
  {
   "cell_type": "code",
   "execution_count": 16,
   "id": "1265ea4e-2198-40a8-90ff-700f8466a7e4",
   "metadata": {},
   "outputs": [
    {
     "name": "stdout",
     "output_type": "stream",
     "text": [
      "3\n",
      "name\n",
      "age\n"
     ]
    }
   ],
   "source": [
    "# Assign multipule values\n",
    "x,y,z=3,\"name\",\"age\"\n",
    "print(x)\n",
    "print(y)\n",
    "print(z)"
   ]
  },
  {
   "cell_type": "code",
   "execution_count": 18,
   "id": "c7cdbff9-076a-4bea-9a81-810665b1016e",
   "metadata": {},
   "outputs": [
    {
     "name": "stdout",
     "output_type": "stream",
     "text": [
      "name\n",
      "name\n",
      "name\n"
     ]
    }
   ],
   "source": [
    "#Assign single values to multiple variables\n",
    "x=y=z=\"name\"\n",
    "print(x)\n",
    "print(y)\n",
    "print(z)"
   ]
  },
  {
   "cell_type": "code",
   "execution_count": 24,
   "id": "143e1d0b-334d-405b-8119-cf171d24f014",
   "metadata": {},
   "outputs": [
    {
     "name": "stdout",
     "output_type": "stream",
     "text": [
      "apple\n",
      "banana\n",
      "berry\n",
      "<class 'list'>\n"
     ]
    }
   ],
   "source": [
    "#Unpack a collection([] this list)\n",
    "fruits=[\"apple\",\"banana\",\"berry\"]\n",
    "x,y,z=fruits\n",
    "print(x)\n",
    "print(y)\n",
    "print(z)\n",
    "print(type(fruits))"
   ]
  },
  {
   "cell_type": "code",
   "execution_count": 22,
   "id": "1ea0ade1-576d-4229-91dc-d80b5f8c77ab",
   "metadata": {},
   "outputs": [
    {
     "name": "stdout",
     "output_type": "stream",
     "text": [
      "('apple', 'banana', 'berry')\n",
      "<class 'tuple'>\n"
     ]
    }
   ],
   "source": [
    "# with () this it is tuple\n",
    "fruits=(\"apple\",\"banana\",\"berry\")\n",
    "print(fruits)\n",
    "print(type(fruits))"
   ]
  },
  {
   "cell_type": "code",
   "execution_count": 30,
   "id": "722f4c98-18ef-413f-b1e7-f436a42d6b88",
   "metadata": {},
   "outputs": [
    {
     "name": "stdout",
     "output_type": "stream",
     "text": [
      "<class 'complex'>\n",
      "<class 'complex'>\n"
     ]
    }
   ],
   "source": [
    "x=3+5j\n",
    "y=-5j\n",
    "print(type(x))\n",
    "print(type(y))"
   ]
  },
  {
   "cell_type": "code",
   "execution_count": 32,
   "id": "470d9d48-d865-437c-8338-8c7c0c30f309",
   "metadata": {},
   "outputs": [
    {
     "name": "stdout",
     "output_type": "stream",
     "text": [
      "e\n"
     ]
    }
   ],
   "source": [
    "#Get the character at the position 1\n",
    "x=\"hello world\"\n",
    "print(x[1])"
   ]
  },
  {
   "cell_type": "code",
   "execution_count": 40,
   "id": "1f37833a-6003-4a3a-9b25-0b5e53d09f55",
   "metadata": {},
   "outputs": [
    {
     "name": "stdout",
     "output_type": "stream",
     "text": [
      "u\n",
      "s\n",
      "i\n",
      "n\n",
      "g\n",
      " \n",
      "l\n",
      "o\n",
      "o\n",
      "p\n",
      "s\n"
     ]
    }
   ],
   "source": [
    "#looping through a string\n",
    "\n",
    "for y in \"using loops\":\n",
    "    print(y)"
   ]
  },
  {
   "cell_type": "code",
   "execution_count": 42,
   "id": "bdf928f7-54f9-4a7b-b889-d9dfd13e3e42",
   "metadata": {},
   "outputs": [
    {
     "name": "stdout",
     "output_type": "stream",
     "text": [
      "u\n",
      "s\n",
      "i\n",
      "n\n",
      "g\n",
      " \n",
      "l\n",
      "o\n",
      "o\n",
      "p\n",
      "s\n"
     ]
    }
   ],
   "source": [
    "#looping through a string (we can do this way as well)\n",
    "y=\"using loops\"\n",
    "for y in y:\n",
    "    print(y)"
   ]
  },
  {
   "cell_type": "code",
   "execution_count": 44,
   "id": "b5bd1c85-5e8f-46e3-b063-1ccdfc7661e3",
   "metadata": {},
   "outputs": [
    {
     "name": "stdout",
     "output_type": "stream",
     "text": [
      "11\n"
     ]
    }
   ],
   "source": [
    "#Get string length\n",
    "y=\"using loops\"\n",
    "print(len(y))"
   ]
  },
  {
   "cell_type": "code",
   "execution_count": 46,
   "id": "5cf7a211-0c04-44e0-ac23-f72c63099c95",
   "metadata": {},
   "outputs": [
    {
     "name": "stdout",
     "output_type": "stream",
     "text": [
      "True\n"
     ]
    }
   ],
   "source": [
    "# To check the particular word in the given string\n",
    "session=\"This is python session for all\"\n",
    "print(\"all\" in session)"
   ]
  },
  {
   "cell_type": "code",
   "execution_count": 48,
   "id": "d0405573-5d9b-4e6e-b5e3-92cf7545376b",
   "metadata": {},
   "outputs": [
    {
     "name": "stdout",
     "output_type": "stream",
     "text": [
      "yes, \"all\" present\n"
     ]
    }
   ],
   "source": [
    "# To check the particular word in the given string with if\n",
    "session=\"This is python session for all\"\n",
    "if \"all\" in session:\n",
    "    print('yes, \"all\" present')"
   ]
  },
  {
   "cell_type": "code",
   "execution_count": 50,
   "id": "3c23c143-7e8d-422d-adda-98591d445135",
   "metadata": {},
   "outputs": [
    {
     "name": "stdout",
     "output_type": "stream",
     "text": [
      "True\n"
     ]
    }
   ],
   "source": [
    "#To chesk word not present in the given string\n",
    "numberOf_classes=\"we have six classes for python\"\n",
    "print(\"eight\" not in numberOf_classes) "
   ]
  },
  {
   "cell_type": "code",
   "execution_count": 56,
   "id": "82d8d185-a93b-4305-885d-0113557b4bf4",
   "metadata": {},
   "outputs": [
    {
     "name": "stdout",
     "output_type": "stream",
     "text": [
      "true, \"eight\" not present\n"
     ]
    }
   ],
   "source": [
    "#To chesk word not present in the given string with if\n",
    "numberOf_classes=\"we have six classes for python\"\n",
    "if \"eight\" not in  numberOf_classes:\n",
    "    print('true, \"eight\" not present')\n"
   ]
  },
  {
   "cell_type": "code",
   "execution_count": 58,
   "id": "837c2e22-1bad-44d7-a61b-0f09b8a553d3",
   "metadata": {},
   "outputs": [
    {
     "name": "stdout",
     "output_type": "stream",
     "text": [
      "ho\n"
     ]
    }
   ],
   "source": [
    "# Slicing the string\n",
    "#python, sessions\n",
    "#012345678910111213141516(indexing starts from 0)\n",
    "x=\"python, sessions\"\n",
    "print(x[3:5])"
   ]
  },
  {
   "cell_type": "code",
   "execution_count": 64,
   "id": "da193112-188a-47db-b276-8c79034f9b54",
   "metadata": {},
   "outputs": [
    {
     "name": "stdout",
     "output_type": "stream",
     "text": [
      "python, sess\n"
     ]
    }
   ],
   "source": [
    "#slice from the begining(print from 0 index)\n",
    "print(x[:12])"
   ]
  },
  {
   "cell_type": "code",
   "execution_count": 66,
   "id": "668f6da9-c322-46fc-ba99-055704d2b090",
   "metadata": {},
   "outputs": [
    {
     "name": "stdout",
     "output_type": "stream",
     "text": [
      "n, sessions\n"
     ]
    }
   ],
   "source": [
    "#slice to the end(print to last index)\n",
    "print(x[5:])"
   ]
  },
  {
   "cell_type": "code",
   "execution_count": 68,
   "id": "9c93ac38-ec3c-47c7-90fb-53ba49ac4e1e",
   "metadata": {},
   "outputs": [
    {
     "name": "stdout",
     "output_type": "stream",
     "text": [
      "sion\n"
     ]
    }
   ],
   "source": [
    "#Negative indexing\n",
    "#python, sessions\n",
    "#   --------3-2-1\n",
    "print(x[-5:-1])"
   ]
  },
  {
   "cell_type": "code",
   "execution_count": 70,
   "id": "b0bc5ac1-2b64-4208-9049-ef3d9f942806",
   "metadata": {},
   "outputs": [
    {
     "name": "stdout",
     "output_type": "stream",
     "text": [
      "PYTHON, SESSIONS\n"
     ]
    }
   ],
   "source": [
    "#print in upper case\n",
    "x=\"python, sessions\"\n",
    "print(x.upper())"
   ]
  },
  {
   "cell_type": "code",
   "execution_count": 72,
   "id": "f9bff966-f6f2-44ad-807a-1ae4094f674f",
   "metadata": {},
   "outputs": [
    {
     "name": "stdout",
     "output_type": "stream",
     "text": [
      "python, sessions\n"
     ]
    }
   ],
   "source": [
    "#print in lower case\n",
    "print(x.lower())"
   ]
  },
  {
   "cell_type": "code",
   "execution_count": 76,
   "id": "b14f3fd8-ab5d-4060-8729-a666a7ef2a47",
   "metadata": {},
   "outputs": [
    {
     "name": "stdout",
     "output_type": "stream",
     "text": [
      "python, sessions\n"
     ]
    }
   ],
   "source": [
    "#remove white space in the front\n",
    "x=\" python, sessions\"\n",
    "\n",
    "print(x.strip())"
   ]
  },
  {
   "cell_type": "code",
   "execution_count": 78,
   "id": "e9574010-dedd-4b05-bb19-74893e4fbb2c",
   "metadata": {},
   "outputs": [
    {
     "name": "stdout",
     "output_type": "stream",
     "text": [
      " mython, sessions\n"
     ]
    }
   ],
   "source": [
    "#Replace string\n",
    "print(x.replace(\"p\",\"m\")) "
   ]
  },
  {
   "cell_type": "code",
   "execution_count": 82,
   "id": "4f2c75c3-e4ad-4677-ad8d-c31213c49894",
   "metadata": {},
   "outputs": [
    {
     "name": "stdout",
     "output_type": "stream",
     "text": [
      "[' python, ', 'e', '', 'ion', '']\n"
     ]
    }
   ],
   "source": [
    "#split the string\n",
    "print(x.split(\"s\"))"
   ]
  },
  {
   "cell_type": "code",
   "execution_count": 84,
   "id": "d29bb0b0-436f-4ff9-b93d-bbc81065b9fd",
   "metadata": {},
   "outputs": [
    {
     "name": "stdout",
     "output_type": "stream",
     "text": [
      "fisrtsecond\n"
     ]
    }
   ],
   "source": [
    "#String concatenation\n",
    "a=\"fisrt\"\n",
    "b=\"second\"\n",
    "c=a+b\n",
    "print(c)"
   ]
  },
  {
   "cell_type": "code",
   "execution_count": 86,
   "id": "ab030f54-899b-41d2-a7b4-9a97b81e00fe",
   "metadata": {},
   "outputs": [
    {
     "name": "stdout",
     "output_type": "stream",
     "text": [
      "fisrt second\n"
     ]
    }
   ],
   "source": [
    "#Add space in between the strings\n",
    "a=\"fisrt\"\n",
    "b=\"second\"\n",
    "c=a+\" \"+b\n",
    "print(c)"
   ]
  },
  {
   "cell_type": "code",
   "execution_count": 88,
   "id": "7e540ec6-119e-4d80-8be8-2e816ced75ac",
   "metadata": {},
   "outputs": [
    {
     "ename": "SyntaxError",
     "evalue": "invalid syntax (1952300887.py, line 2)",
     "output_type": "error",
     "traceback": [
      "\u001b[1;36m  Cell \u001b[1;32mIn[88], line 2\u001b[1;36m\u001b[0m\n\u001b[1;33m    x=\"I am attenting \"python sessions\" every day\"\u001b[0m\n\u001b[1;37m                       ^\u001b[0m\n\u001b[1;31mSyntaxError\u001b[0m\u001b[1;31m:\u001b[0m invalid syntax\n"
     ]
    }
   ],
   "source": [
    "#Escape characters(Give syntax error)\n",
    "x=\"I am attenting \"python sessions\" every day\"\n",
    "print(x)"
   ]
  },
  {
   "cell_type": "code",
   "execution_count": 90,
   "id": "20bbb990-e7e4-48ac-9e39-428bac27bcf7",
   "metadata": {},
   "outputs": [
    {
     "name": "stdout",
     "output_type": "stream",
     "text": [
      "I am attenting \"python sessions\" every day\n"
     ]
    }
   ],
   "source": [
    "#Escape characters\n",
    "x=\"I am attenting \\\"python sessions\\\" every day\"\n",
    "print(x)"
   ]
  },
  {
   "cell_type": "code",
   "execution_count": 94,
   "id": "dc0c5e46-07cd-434e-a466-d75e3d53143d",
   "metadata": {},
   "outputs": [
    {
     "name": "stdout",
     "output_type": "stream",
     "text": [
      "True\n",
      "False\n",
      "False\n"
     ]
    }
   ],
   "source": [
    "#Python Boolean values\n",
    "print(10>9)\n",
    "print(10==9)\n",
    "print(10<9)"
   ]
  },
  {
   "cell_type": "code",
   "execution_count": 96,
   "id": "463a992d-4206-403a-a816-1486350847d5",
   "metadata": {},
   "outputs": [
    {
     "name": "stdout",
     "output_type": "stream",
     "text": [
      "x is greater than y\n"
     ]
    }
   ],
   "source": [
    "#print the message based on the condition is True or False\n",
    "x=100\n",
    "y=50\n",
    "if x>y:\n",
    "    print(\"x is greater than y\")\n",
    "else:\n",
    "    print(\"x is lessthan y\")"
   ]
  },
  {
   "cell_type": "code",
   "execution_count": 98,
   "id": "fe679521-3ca2-4c26-835e-05a24dfe7f2b",
   "metadata": {},
   "outputs": [
    {
     "name": "stdout",
     "output_type": "stream",
     "text": [
      "13\n",
      "-3\n",
      "40\n",
      "0.625\n"
     ]
    }
   ],
   "source": [
    "#Python arithmetic operators\n",
    "x=5\n",
    "y=8\n",
    "print(x+y)\n",
    "print(x-y)\n",
    "print(x*y)\n",
    "print(x/y)"
   ]
  },
  {
   "cell_type": "code",
   "execution_count": 121,
   "id": "fd81a454-02aa-4da2-b362-1ccdfc1705e4",
   "metadata": {},
   "outputs": [
    {
     "name": "stdout",
     "output_type": "stream",
     "text": [
      "5\n",
      "10\n",
      "7\n",
      "21\n",
      "7.0\n"
     ]
    }
   ],
   "source": [
    "#Assignment oepartors\n",
    "x=5\n",
    "print(x)\n",
    "x +=5 # x=x+5\n",
    "print(x)\n",
    "x -=3 # x=x-3\n",
    "print(x)\n",
    "x *=3 #x=x*3\n",
    "print(x)\n",
    "x/=3 #x=x/3\n",
    "print(x)"
   ]
  },
  {
   "cell_type": "code",
   "execution_count": 127,
   "id": "ed3cb4d7-12d8-48e9-9839-527ce3c5ca29",
   "metadata": {},
   "outputs": [
    {
     "name": "stdout",
     "output_type": "stream",
     "text": [
      "False\n",
      "True\n"
     ]
    }
   ],
   "source": [
    "#Python comparision operators\n",
    "x=8\n",
    "y=4\n",
    "print(x==y)\n",
    "print(x!=y)"
   ]
  },
  {
   "cell_type": "code",
   "execution_count": 143,
   "id": "2a3f6a35-b057-4975-a705-efa8e190c0e1",
   "metadata": {},
   "outputs": [
    {
     "name": "stdout",
     "output_type": "stream",
     "text": [
      "True\n",
      "True\n"
     ]
    }
   ],
   "source": [
    "#Python logical operators\n",
    "x=5\n",
    "print(x<6 and x>3)\n",
    "print(x>6 or x>3)\n"
   ]
  },
  {
   "cell_type": "code",
   "execution_count": 151,
   "id": "7b433ea3-affb-43a9-8da7-964917dfb2fa",
   "metadata": {},
   "outputs": [
    {
     "name": "stdout",
     "output_type": "stream",
     "text": [
      "['apple', 'banana', 'berry', 'cherry', 'berry']\n",
      "[3, 5, 8]\n",
      "[True, False, True]\n",
      "<class 'list'>\n"
     ]
    }
   ],
   "source": [
    "# List in python(Lists are in ordered, changable and allow duplictes and removable. list should be in [])\n",
    "fruits=[\"apple\",\"banana\",\"berry\",\"cherry\",\"berry\"]\n",
    "numbers=[3,5,8]\n",
    "conditions=[True,False,True]\n",
    "print(fruits)\n",
    "print(numbers)\n",
    "print(conditions)\n",
    "#type of the list\n",
    "print(type(fruits))\n"
   ]
  },
  {
   "cell_type": "code",
   "execution_count": 159,
   "id": "94640cfa-d422-4c96-b2f5-0173d5596725",
   "metadata": {},
   "outputs": [
    {
     "name": "stdout",
     "output_type": "stream",
     "text": [
      "['red', 'yellow', 'blue']\n"
     ]
    }
   ],
   "source": [
    "# list() constructor(create the list in this way as well)\n",
    "newlist=list((\"red\",\"yellow\",\"blue\"))\n",
    "print(newlist)"
   ]
  },
  {
   "cell_type": "code",
   "execution_count": 163,
   "id": "1c5304a0-e40f-44a2-8b14-a76bdff07580",
   "metadata": {},
   "outputs": [
    {
     "name": "stdout",
     "output_type": "stream",
     "text": [
      "cherry\n",
      "cherry\n"
     ]
    }
   ],
   "source": [
    "#Access items in the list\n",
    "fruits=[\"apple\",\"banana\",\"berry\",\"cherry\",\"berry\"]\n",
    "print(fruits[3])\n",
    "print(fruits[-2])"
   ]
  },
  {
   "cell_type": "code",
   "execution_count": 171,
   "id": "dc971a24-84b2-42f7-8d4a-ad340dc1064b",
   "metadata": {},
   "outputs": [
    {
     "name": "stdout",
     "output_type": "stream",
     "text": [
      "['berry', 'cherry', 'berry']\n",
      "['berry', 'cherry']\n",
      "['apple', 'banana', 'berry', 'cherry', 'berry']\n",
      "['berry', 'cherry', 'berry']\n"
     ]
    }
   ],
   "source": [
    "# Range of index in the list\n",
    "print(fruits[2:5])\n",
    "print(fruits[-3:-1])\n",
    "print(fruits[:5])\n",
    "print(fruits[2:])"
   ]
  },
  {
   "cell_type": "code",
   "execution_count": 173,
   "id": "20d5a6c7-c2ff-4040-b3e7-26ab10f9a048",
   "metadata": {},
   "outputs": [
    {
     "name": "stdout",
     "output_type": "stream",
     "text": [
      "['apple', 'banana', 'blue berry', 'cherry', 'berry']\n"
     ]
    }
   ],
   "source": [
    "#Change the item value in the list\n",
    "fruits=[\"apple\",\"banana\",\"berry\",\"cherry\",\"berry\"]\n",
    "fruits[2]=\"blue berry\"\n",
    "print(fruits)"
   ]
  },
  {
   "cell_type": "code",
   "execution_count": 179,
   "id": "c0eeb96c-e49d-45bd-83e3-6990907c04fa",
   "metadata": {},
   "outputs": [
    {
     "name": "stdout",
     "output_type": "stream",
     "text": [
      "['apple', 'banana', 'blue berry', 'black berry', 'berry']\n"
     ]
    }
   ],
   "source": [
    "#Change a range of item values\n",
    "fruits=[\"apple\",\"banana\",\"berry\",\"cherry\",\"berry\"]\n",
    "fruits [2:4]= [\"blue berry\",\"black berry\"]\n",
    "print(fruits)"
   ]
  },
  {
   "cell_type": "code",
   "execution_count": 181,
   "id": "9929532a-4583-4cfc-883d-6c6df7ebb083",
   "metadata": {},
   "outputs": [
    {
     "name": "stdout",
     "output_type": "stream",
     "text": [
      "['apple', 'banana', 'watermelon', 'blue berry', 'black berry', 'berry']\n"
     ]
    }
   ],
   "source": [
    "# insert new value\n",
    "fruits.insert(2, \"watermelon\")\n",
    "print(fruits)"
   ]
  },
  {
   "cell_type": "code",
   "execution_count": 185,
   "id": "253375bd-2439-42f7-aa6d-1c4029c947d9",
   "metadata": {},
   "outputs": [
    {
     "name": "stdout",
     "output_type": "stream",
     "text": [
      "['apple', 'banana', 'watermelon', 'blue berry', 'black berry', 'berry', 'orange']\n"
     ]
    }
   ],
   "source": [
    "#Append value(add values to the list)\n",
    "fruits.append(\"orange\")\n",
    "print(fruits)"
   ]
  },
  {
   "cell_type": "code",
   "execution_count": 187,
   "id": "26dfd55c-4db4-48e9-b4be-2638b3ad535a",
   "metadata": {},
   "outputs": [
    {
     "name": "stdout",
     "output_type": "stream",
     "text": [
      "['apple', 'banana', 'orange', 'strawberry', 'blueberry', 'blackberry']\n"
     ]
    }
   ],
   "source": [
    "#Extend list(add list to the other list)\n",
    "fruits=[\"apple\",\"banana\",\"orange\"]\n",
    "berries=[\"strawberry\",\"blueberry\",\"blackberry\"]\n",
    "fruits.extend(berries)\n",
    "print(fruits)\n"
   ]
  },
  {
   "cell_type": "code",
   "execution_count": 189,
   "id": "a09c5b8b-88d0-45d2-8555-3166231d26cf",
   "metadata": {},
   "outputs": [
    {
     "name": "stdout",
     "output_type": "stream",
     "text": [
      "['apple', 'banana', 'berry', 'cherry']\n"
     ]
    }
   ],
   "source": [
    "#remove the values from the list and if we have duplicate values it remove first duplicate value\n",
    "fruits=[\"apple\",\"banana\",\"cherry\",\"berry\",\"cherry\"]\n",
    "fruits.remove(\"cherry\")\n",
    "print(fruits)\n",
    "\n"
   ]
  },
  {
   "cell_type": "code",
   "execution_count": 193,
   "id": "e062162a-373b-4770-a6f2-3bca0c9f2f59",
   "metadata": {},
   "outputs": [
    {
     "name": "stdout",
     "output_type": "stream",
     "text": [
      "['apple', 'banana', 'cherry', 'berry']\n"
     ]
    }
   ],
   "source": [
    "#Remove value with index\n",
    "fruits=[\"apple\",\"banana\",\"berry\",\"cherry\",\"berry\"]\n",
    "del fruits[2]\n",
    "print(fruits)\n",
    "#delete list\n",
    "del fruits"
   ]
  },
  {
   "cell_type": "code",
   "execution_count": 197,
   "id": "5e1a0b82-9daa-4b77-9727-bdba090f951c",
   "metadata": {},
   "outputs": [
    {
     "name": "stdout",
     "output_type": "stream",
     "text": [
      "apple\n",
      "banana\n",
      "berry\n",
      "cherry\n",
      "berry\n"
     ]
    }
   ],
   "source": [
    "# using for loop\n",
    "fruits=[\"apple\",\"banana\",\"berry\",\"cherry\",\"berry\"]\n",
    "for x in fruits:\n",
    "    print(x)"
   ]
  },
  {
   "cell_type": "code",
   "execution_count": 199,
   "id": "2a316b94-eec9-41e4-8afa-9e40765b0b12",
   "metadata": {},
   "outputs": [
    {
     "name": "stdout",
     "output_type": "stream",
     "text": [
      "apple\n",
      "banana\n",
      "berry\n",
      "cherry\n",
      "berry\n"
     ]
    }
   ],
   "source": [
    "#Using while loop print all the values\n",
    "fruits=[\"apple\",\"banana\",\"berry\",\"cherry\",\"berry\"]\n",
    "i=0\n",
    "while i<len(fruits):\n",
    "    print(fruits[i])\n",
    "    i=i+1"
   ]
  },
  {
   "cell_type": "code",
   "execution_count": 207,
   "id": "499d7079-0945-4f63-8184-ccdfb9a76c77",
   "metadata": {},
   "outputs": [
    {
     "name": "stdout",
     "output_type": "stream",
     "text": [
      "['apple', 'banana', 'berry', 'berry', 'cherry']\n"
     ]
    }
   ],
   "source": [
    "#Sort the list in alphabetical order\n",
    "fruits=[\"apple\",\"banana\",\"berry\",\"cherry\",\"berry\"]\n",
    "fruits.sort()\n",
    "print(fruits)"
   ]
  },
  {
   "cell_type": "code",
   "execution_count": 209,
   "id": "e2d276dc-89c1-426e-bdea-8d3b2e256017",
   "metadata": {},
   "outputs": [
    {
     "name": "stdout",
     "output_type": "stream",
     "text": [
      "['cherry', 'berry', 'berry', 'banana', 'apple']\n"
     ]
    }
   ],
   "source": [
    "#Sort the list in descending order\n",
    "fruits=[\"apple\",\"banana\",\"berry\",\"cherry\",\"berry\"]\n",
    "fruits.sort(reverse=True)\n",
    "print(fruits)"
   ]
  },
  {
   "cell_type": "code",
   "execution_count": 217,
   "id": "286b0484-ecae-43b9-b4fd-c2142d63398b",
   "metadata": {},
   "outputs": [
    {
     "name": "stdout",
     "output_type": "stream",
     "text": [
      "['apple', 'banana', 'berry', 'cherry', 'berry']\n",
      "['apple', 'banana', 'berry', 'cherry', 'berry']\n",
      "['apple', 'banana', 'berry', 'cherry', 'berry']\n"
     ]
    }
   ],
   "source": [
    "#Copy list with copy\n",
    "fruits=[\"apple\",\"banana\",\"berry\",\"cherry\",\"berry\"]\n",
    "newlist=fruits.copy()\n",
    "print(newlist)\n",
    "#copy list with list()\n",
    "newlist1=list(fruits)\n",
    "print(newlist1)\n",
    "#copy list with : operator\n",
    "newlist2=fruits[:]\n",
    "print(newlist2)"
   ]
  },
  {
   "cell_type": "code",
   "execution_count": 219,
   "id": "647e95e5-4398-44a9-bed8-4245264908b1",
   "metadata": {},
   "outputs": [
    {
     "name": "stdout",
     "output_type": "stream",
     "text": [
      "['a', 'b', 'c', 1, 2, 3]\n"
     ]
    }
   ],
   "source": [
    "#Join two lists\n",
    "letters=['a','b','c']\n",
    "numbers=[1,2,3]\n",
    "list=letters+numbers\n",
    "print(list)"
   ]
  },
  {
   "cell_type": "code",
   "execution_count": 227,
   "id": "e4f48ed5-1501-45b0-9f98-73b3bb1bfe31",
   "metadata": {},
   "outputs": [
    {
     "name": "stdout",
     "output_type": "stream",
     "text": [
      "['a', 'b', 'c', 1, 2, 3]\n"
     ]
    }
   ],
   "source": [
    "#Append in for loop\n",
    "letters=['a','b','c']\n",
    "numbers=[1,2,3]\n",
    "for x in numbers:\n",
    "    letters.append(x)\n",
    "    \n",
    "print(letters)"
   ]
  },
  {
   "cell_type": "code",
   "execution_count": 233,
   "id": "e4058b34-bc7b-436b-991e-baac06869734",
   "metadata": {},
   "outputs": [
    {
     "name": "stdout",
     "output_type": "stream",
     "text": [
      "('blue', 'green', 'red', 'green')\n",
      "('colors', 5, True)\n"
     ]
    }
   ],
   "source": [
    "# Python Tuples(it is collection of values by ordered and unchangable, to create use ())\n",
    "colors=(\"blue\",\"green\",\"red\",\"green\")\n",
    "print(colors)\n",
    "tuple=(\"colors\",5,True)\n",
    "print(tuple)"
   ]
  },
  {
   "cell_type": "code",
   "execution_count": 235,
   "id": "44ba9fa1-ad7e-49ac-a33c-076625fd9471",
   "metadata": {},
   "outputs": [
    {
     "name": "stdout",
     "output_type": "stream",
     "text": [
      "green\n",
      "green\n",
      "('green', 'red')\n",
      "('blue', 'green')\n",
      "('blue', 'green', 'red', 'green')\n",
      "('green',)\n"
     ]
    }
   ],
   "source": [
    "#Access with index\n",
    "colors=(\"blue\",\"green\",\"red\",\"green\")\n",
    "print(colors[3])\n",
    "print(colors[-1])\n",
    "print(colors[1:3])\n",
    "print(colors[-4:-2])\n",
    "print(colors[:4])\n",
    "print(colors[3:])"
   ]
  },
  {
   "cell_type": "code",
   "execution_count": 237,
   "id": "e751cda2-473c-4a80-8696-00cc5d80a6fc",
   "metadata": {},
   "outputs": [
    {
     "name": "stdout",
     "output_type": "stream",
     "text": [
      "blue\n",
      "green\n",
      "red\n",
      "green\n"
     ]
    }
   ],
   "source": [
    "# loop the tuple\n",
    "colors=(\"blue\",\"green\",\"red\",\"green\")\n",
    "for x in colors:\n",
    "    print(x)\n"
   ]
  },
  {
   "cell_type": "code",
   "execution_count": 241,
   "id": "fea64091-1095-4b3a-9fda-b6576fbd5eb5",
   "metadata": {},
   "outputs": [
    {
     "name": "stdout",
     "output_type": "stream",
     "text": [
      "blue\n",
      "green\n",
      "red\n",
      "green\n"
     ]
    }
   ],
   "source": [
    "#print the tuple with index using for loop\n",
    "colors=(\"blue\",\"green\",\"red\",\"green\")\n",
    "for i in range(len(colors)):\n",
    "    print(colors[i])"
   ]
  },
  {
   "cell_type": "code",
   "execution_count": 243,
   "id": "87e69d39-6d1f-4088-a0bd-8c91018102ca",
   "metadata": {},
   "outputs": [
    {
     "name": "stdout",
     "output_type": "stream",
     "text": [
      "('a', 'b', 'c', 1, 2, 3)\n"
     ]
    }
   ],
   "source": [
    "# join tuples\n",
    "letters=('a','b','c')\n",
    "numbers=(1,2,3)\n",
    "tuple=letters+numbers\n",
    "print(tuple)"
   ]
  },
  {
   "cell_type": "code",
   "execution_count": 245,
   "id": "a533f9e9-a633-481c-a7e8-60ea1691d8de",
   "metadata": {},
   "outputs": [
    {
     "name": "stdout",
     "output_type": "stream",
     "text": [
      "(1, 2, 3, 1, 2, 3)\n"
     ]
    }
   ],
   "source": [
    "#multiply the tuple\n",
    "numbers=(1,2,3)\n",
    "tuple=numbers * 2\n",
    "print(tuple)"
   ]
  },
  {
   "cell_type": "code",
   "execution_count": 247,
   "id": "c85b464d-5267-4c52-9f4c-96335ce81269",
   "metadata": {},
   "outputs": [
    {
     "name": "stdout",
     "output_type": "stream",
     "text": [
      "{'a', 'b', 'c'}\n"
     ]
    }
   ],
   "source": [
    "# Set in python(it is unordered, unchangable and unindexed. use{} to create. but we can remove and add values)\n",
    "letters={'a','b','c'}\n",
    "print(letters)\n"
   ]
  },
  {
   "cell_type": "code",
   "execution_count": 249,
   "id": "96f0327d-f5c8-4acf-923e-95bee0c89ad0",
   "metadata": {},
   "outputs": [
    {
     "name": "stdout",
     "output_type": "stream",
     "text": [
      "{'a', 'b', 'c'}\n"
     ]
    }
   ],
   "source": [
    "# no duplication it will ignore\n",
    "letters={'a','b','c','a'}\n",
    "print(letters)\n",
    "\n"
   ]
  },
  {
   "cell_type": "code",
   "execution_count": 251,
   "id": "32852bab-5add-456e-874d-5f5cde03bf19",
   "metadata": {},
   "outputs": [
    {
     "name": "stdout",
     "output_type": "stream",
     "text": [
      "{'a', 'b', 'c'}\n",
      "{1, 2, 3}\n",
      "{False, True}\n"
     ]
    }
   ],
   "source": [
    "letters={'a','b','c'}\n",
    "numbers={1,2,3}\n",
    "bol={True,False,True}\n",
    "print(letters)\n",
    "print(numbers)\n",
    "print(bol)"
   ]
  },
  {
   "cell_type": "code",
   "execution_count": 255,
   "id": "a03e4768-49a1-4053-bf4c-191d242988cc",
   "metadata": {},
   "outputs": [
    {
     "name": "stdout",
     "output_type": "stream",
     "text": [
      "a\n",
      "b\n",
      "c\n"
     ]
    }
   ],
   "source": [
    "#loop through the set\n",
    "letters={'a','b','c'}\n",
    "for x in letters:\n",
    "    print(x)\n",
    "    "
   ]
  },
  {
   "cell_type": "code",
   "execution_count": 265,
   "id": "47e399b6-f168-487e-a416-8696372865a0",
   "metadata": {},
   "outputs": [
    {
     "name": "stdout",
     "output_type": "stream",
     "text": [
      "True\n",
      "False\n"
     ]
    }
   ],
   "source": [
    "# check if any value present in the set\n",
    "letters={'a','b','c'}\n",
    "print(\"a\"in letters)\n",
    "print(\"a\" not in letters)\n"
   ]
  },
  {
   "cell_type": "code",
   "execution_count": 267,
   "id": "55c12017-1f68-4aff-b1a7-39242273f8dd",
   "metadata": {},
   "outputs": [
    {
     "name": "stdout",
     "output_type": "stream",
     "text": [
      "{'a', 'b', 'c', 'e'}\n"
     ]
    }
   ],
   "source": [
    "# Add values\n",
    "letters.add(\"e\")\n",
    "print(letters)"
   ]
  },
  {
   "cell_type": "code",
   "execution_count": 269,
   "id": "588806bb-00c9-4457-922e-875a5d4548bf",
   "metadata": {},
   "outputs": [
    {
     "name": "stdout",
     "output_type": "stream",
     "text": [
      "{'a', 1, 2, 3, 'c', 'b'}\n"
     ]
    }
   ],
   "source": [
    "# add both the sets\n",
    "letters={'a','b','c'}\n",
    "numbers={1,2,3}\n",
    "letters.update(numbers)\n",
    "print(letters)"
   ]
  },
  {
   "cell_type": "code",
   "execution_count": 279,
   "id": "96761ebe-15d4-428f-9117-d9f48d0dab75",
   "metadata": {},
   "outputs": [
    {
     "name": "stdout",
     "output_type": "stream",
     "text": [
      "{'b', 'c'}\n",
      "{'a', 'c'}\n"
     ]
    }
   ],
   "source": [
    "# remove value\n",
    "letters={'a','b','c'}\n",
    "\n",
    "letters.remove(\"a\")\n",
    "print(letters)\n",
    "# remove with discard()\n",
    "letters={'a','b','c'}\n",
    "\n",
    "letters.discard(\"b\")\n",
    "print(letters)"
   ]
  },
  {
   "cell_type": "code",
   "execution_count": 281,
   "id": "0a1744ed-aecd-4e76-87e9-10979c6de61c",
   "metadata": {},
   "outputs": [
    {
     "name": "stdout",
     "output_type": "stream",
     "text": [
      "set()\n"
     ]
    }
   ],
   "source": [
    "#clear the set\n",
    "letters={'a','b','c'}\n",
    "letters.clear()\n",
    "print(letters)"
   ]
  },
  {
   "cell_type": "code",
   "execution_count": 285,
   "id": "9380eab7-b070-40d1-90df-865334757bfa",
   "metadata": {},
   "outputs": [
    {
     "ename": "NameError",
     "evalue": "name 'letters' is not defined",
     "output_type": "error",
     "traceback": [
      "\u001b[1;31m---------------------------------------------------------------------------\u001b[0m",
      "\u001b[1;31mNameError\u001b[0m                                 Traceback (most recent call last)",
      "Cell \u001b[1;32mIn[285], line 4\u001b[0m\n\u001b[0;32m      2\u001b[0m letters\u001b[38;5;241m=\u001b[39m{\u001b[38;5;124m'\u001b[39m\u001b[38;5;124ma\u001b[39m\u001b[38;5;124m'\u001b[39m,\u001b[38;5;124m'\u001b[39m\u001b[38;5;124mb\u001b[39m\u001b[38;5;124m'\u001b[39m,\u001b[38;5;124m'\u001b[39m\u001b[38;5;124mc\u001b[39m\u001b[38;5;124m'\u001b[39m}\n\u001b[0;32m      3\u001b[0m \u001b[38;5;28;01mdel\u001b[39;00m letters\n\u001b[1;32m----> 4\u001b[0m \u001b[38;5;28mprint\u001b[39m(letters)\n",
      "\u001b[1;31mNameError\u001b[0m: name 'letters' is not defined"
     ]
    }
   ],
   "source": [
    "#with del\n",
    "letters={'a','b','c'}\n",
    "del letters\n",
    "print(letters)"
   ]
  },
  {
   "cell_type": "code",
   "execution_count": 289,
   "id": "d7392ec1-3754-4020-8afe-5ede4f27dd81",
   "metadata": {},
   "outputs": [
    {
     "name": "stdout",
     "output_type": "stream",
     "text": [
      "{'a', 1, 2, 3, 'c', 'b'}\n"
     ]
    }
   ],
   "source": [
    "#joining the sets\n",
    "letters={'a','b','c'}\n",
    "numbers={1,2,3}\n",
    "set=letters.union(numbers)\n",
    "print(set)"
   ]
  },
  {
   "cell_type": "code",
   "execution_count": 291,
   "id": "0c481861-3924-4703-a584-79c41331354a",
   "metadata": {},
   "outputs": [
    {
     "name": "stdout",
     "output_type": "stream",
     "text": [
      "{'a', 1, 2, 3, 'c', 'b'}\n"
     ]
    }
   ],
   "source": [
    "#join set and tuple\n",
    "st={'a','b','c'}\n",
    "tpl=(1,2,3)\n",
    "set=st.union(tpl)\n",
    "print(set)"
   ]
  },
  {
   "cell_type": "code",
   "execution_count": 293,
   "id": "66f44df0-a1cd-4fba-bf60-ddeca346e35f",
   "metadata": {},
   "outputs": [
    {
     "name": "stdout",
     "output_type": "stream",
     "text": [
      "{1, 2}\n"
     ]
    }
   ],
   "source": [
    "#intursection(print duplicates)\n",
    "letters={'a','b','c',1,2}\n",
    "numbers={1,2,3}\n",
    "set=letters.intersection(numbers)\n",
    "print(set)"
   ]
  },
  {
   "cell_type": "code",
   "execution_count": 295,
   "id": "973ccf5c-a85b-4336-9a60-4b3e4a1cd908",
   "metadata": {},
   "outputs": [
    {
     "name": "stdout",
     "output_type": "stream",
     "text": [
      "{1, 2}\n"
     ]
    }
   ],
   "source": [
    "# join with & (print duplicates)\n",
    "letters={'a','b','c',1,2}\n",
    "numbers={1,2,3}\n",
    "set=letters & numbers\n",
    "print(set)"
   ]
  },
  {
   "cell_type": "code",
   "execution_count": 297,
   "id": "feab46fc-a2bd-4989-ae35-ddf992b5b318",
   "metadata": {},
   "outputs": [
    {
     "name": "stdout",
     "output_type": "stream",
     "text": [
      "{'a', 'b', 'c'}\n"
     ]
    }
   ],
   "source": [
    "# wuith difference it will give the values that present in set1 not in set2\n",
    "set1={'a','b','c',1,2}\n",
    "set2={1,2,3}\n",
    "set=set1.difference(set2) \n",
    "print(set)"
   ]
  },
  {
   "cell_type": "code",
   "execution_count": 299,
   "id": "ece20bdb-98ca-426d-928f-bcb26fc0178d",
   "metadata": {},
   "outputs": [
    {
     "name": "stdout",
     "output_type": "stream",
     "text": [
      "{'a', 3, 'c', 'b'}\n"
     ]
    }
   ],
   "source": [
    "# can use symmetric_difference skip the values present in both the sets\n",
    "set1={'a','b','c',1,2}\n",
    "set2={1,2,3}\n",
    "set=set1.symmetric_difference(set2)\n",
    "print(set)"
   ]
  },
  {
   "cell_type": "code",
   "execution_count": 1,
   "id": "e35c2700-83db-4b8c-8b78-3ed783941844",
   "metadata": {},
   "outputs": [
    {
     "name": "stdout",
     "output_type": "stream",
     "text": [
      "{'classes': 'python', 'number': 6, 'hackathon': 'yes'}\n"
     ]
    }
   ],
   "source": [
    "#Dictionary\n",
    "dic={\n",
    "    \"classes\":\"python\",\n",
    "    \"number\":6,\n",
    "    \"hackathon\":\"yes\"\n",
    "}\n",
    "print(dic)"
   ]
  },
  {
   "cell_type": "code",
   "execution_count": 3,
   "id": "d30ade61-274c-4613-93f3-0490e190eb9e",
   "metadata": {},
   "outputs": [
    {
     "name": "stdout",
     "output_type": "stream",
     "text": [
      "python\n"
     ]
    }
   ],
   "source": [
    "#Access the particular value in the dictionary\n",
    "print(dic[\"classes\"])"
   ]
  },
  {
   "cell_type": "code",
   "execution_count": 5,
   "id": "af68a413-f437-4280-961f-b755a7344e55",
   "metadata": {},
   "outputs": [
    {
     "name": "stdout",
     "output_type": "stream",
     "text": [
      "6\n"
     ]
    }
   ],
   "source": [
    "#Access values using get() method\n",
    "print(dic.get(\"number\"))"
   ]
  },
  {
   "cell_type": "code",
   "execution_count": 7,
   "id": "382af67c-e5e2-43c7-a4b0-8983c2e2fa9d",
   "metadata": {},
   "outputs": [
    {
     "name": "stdout",
     "output_type": "stream",
     "text": [
      "dict_keys(['classes', 'number', 'hackathon'])\n"
     ]
    }
   ],
   "source": [
    "#Get keys in the dictionary\n",
    "print(dic.keys())"
   ]
  },
  {
   "cell_type": "code",
   "execution_count": 9,
   "id": "efc26d78-03e1-4ce9-a11b-762d9947d281",
   "metadata": {},
   "outputs": [
    {
     "name": "stdout",
     "output_type": "stream",
     "text": [
      "dict_values(['python', 6, 'yes'])\n"
     ]
    }
   ],
   "source": [
    "#Get values in the dictionary\n",
    "print(dic.values())"
   ]
  },
  {
   "cell_type": "code",
   "execution_count": 13,
   "id": "e23bc5ff-a018-41a3-a80e-13af3e001ef6",
   "metadata": {},
   "outputs": [
    {
     "name": "stdout",
     "output_type": "stream",
     "text": [
      "dict_items([('classes', 'python'), ('number', 6), ('hackathon', 'yes')])\n"
     ]
    }
   ],
   "source": [
    "#item() method will give items in the dictionary in the form of tuple.(item is called combination of key and value pairs)\n",
    "print(dic.items())"
   ]
  },
  {
   "cell_type": "code",
   "execution_count": 15,
   "id": "df5a8468-c183-4d2d-afc6-8e922776d9f8",
   "metadata": {},
   "outputs": [
    {
     "name": "stdout",
     "output_type": "stream",
     "text": [
      "yes, 'hackathon' present\n"
     ]
    }
   ],
   "source": [
    "# using if condition check whether value present\n",
    "dic={\n",
    "    \"classes\":\"python\",\n",
    "    \"number\":6,\n",
    "    \"hackathon\":\"yes\"\n",
    "}\n",
    "if \"hackathon\" in dic:\n",
    "    print(\"yes, 'hackathon' present\")"
   ]
  },
  {
   "cell_type": "code",
   "execution_count": 17,
   "id": "03c80614-47b5-4e90-9565-14af96e0bf62",
   "metadata": {},
   "outputs": [
    {
     "name": "stdout",
     "output_type": "stream",
     "text": [
      "{'classes': 'python', 'number': 6, 'hackathon': 'no'}\n"
     ]
    }
   ],
   "source": [
    "# dictionary won,t allowe duplicates \n",
    "# can,t have same item with the same key\n",
    "# it will overwrite the existing value\n",
    "dic={\n",
    "    \"classes\":\"python\",\n",
    "    \"number\":6,\n",
    "    \"hackathon\":\"yes\",\n",
    "    \"hackathon\":\"no\"\n",
    "}\n",
    "print(dic)"
   ]
  },
  {
   "cell_type": "code",
   "execution_count": 19,
   "id": "3e4f8d81-5c9e-4692-acc8-51ea17121b5c",
   "metadata": {},
   "outputs": [
    {
     "name": "stdout",
     "output_type": "stream",
     "text": [
      "3\n"
     ]
    }
   ],
   "source": [
    "#length of the dictionary\n",
    "print(len(dic))"
   ]
  },
  {
   "cell_type": "code",
   "execution_count": 25,
   "id": "4534f0d9-0550-42f3-b0a0-33cdc7c958e3",
   "metadata": {},
   "outputs": [
    {
     "name": "stdout",
     "output_type": "stream",
     "text": [
      "{'classes': 'python', 'number': 6, 'hackathon': True, 'track': ['SDET', 'DA', 'ChatBot']}\n",
      "<class 'dict'>\n"
     ]
    }
   ],
   "source": [
    "#The values in the dictionary items can be any datatype\n",
    "# can be string,boolean,int and list\n",
    "# And also can check the datatype of dictionary\n",
    "dic={\n",
    "    \"classes\":\"python\",\n",
    "    \"number\":6,\n",
    "    \"hackathon\":True,\n",
    "    \"track\":[\"SDET\",\"DA\",\"ChatBot\"]\n",
    "}\n",
    "print(dic)\n",
    "print(type(dic))\n"
   ]
  },
  {
   "cell_type": "code",
   "execution_count": 27,
   "id": "46606817-0c9b-404b-81ca-7cb6bddc9753",
   "metadata": {},
   "outputs": [
    {
     "name": "stdout",
     "output_type": "stream",
     "text": [
      "{'classes': 'python', 'number': 8, 'hackathon': 'yes'}\n"
     ]
    }
   ],
   "source": [
    "# Change the value of specific item by using the key\n",
    "dic={\n",
    "    \"classes\":\"python\",\n",
    "    \"number\":6,\n",
    "    \"hackathon\":\"yes\"\n",
    "}\n",
    "dic[\"number\"]=8\n",
    "print(dic)\n"
   ]
  },
  {
   "cell_type": "code",
   "execution_count": 33,
   "id": "ced316a3-d695-4f46-a522-1d27ec6c35f2",
   "metadata": {},
   "outputs": [
    {
     "name": "stdout",
     "output_type": "stream",
     "text": [
      "{'classes': 'python', 'number': 9, 'hackathon': 'yes'}\n"
     ]
    }
   ],
   "source": [
    "#Using update() method\n",
    "dic={\n",
    "    \"classes\":\"python\",\n",
    "    \"number\":6,\n",
    "    \"hackathon\":\"yes\"\n",
    "}\n",
    "dic.update({\"number\":9})\n",
    "print(dic)"
   ]
  },
  {
   "cell_type": "code",
   "execution_count": 35,
   "id": "345687d4-2010-4fe6-a479-3535f671073e",
   "metadata": {},
   "outputs": [
    {
     "name": "stdout",
     "output_type": "stream",
     "text": [
      "{'classes': 'python', 'number': 6, 'hackathon': 'yes', 'track': ['SDET', 'DA']}\n"
     ]
    }
   ],
   "source": [
    "# Adding new item into the dictionary\n",
    "dic={\n",
    "    \"classes\":\"python\",\n",
    "    \"number\":6,\n",
    "    \"hackathon\":\"yes\"\n",
    "}\n",
    "dic[\"track\"]=[\"SDET\",\"DA\"]\n",
    "print(dic)"
   ]
  },
  {
   "cell_type": "code",
   "execution_count": 41,
   "id": "93c78fe2-24c6-4c99-a4ce-23f8bb9fb235",
   "metadata": {},
   "outputs": [
    {
     "name": "stdout",
     "output_type": "stream",
     "text": [
      "{'classes': 'python', 'number': 6, 'hackathon': 'yes', 'track': ['SDET', 'DA']}\n"
     ]
    }
   ],
   "source": [
    "#Adding new items using update()\n",
    "dic={\n",
    "    \"classes\":\"python\",\n",
    "    \"number\":6,\n",
    "    \"hackathon\":\"yes\"\n",
    "}\n",
    "dic.update({\"track\":[\"SDET\",\"DA\"]})\n",
    "print(dic)"
   ]
  },
  {
   "cell_type": "markdown",
   "id": "de0534e0-69e7-4df8-8cd4-cd520dc81c66",
   "metadata": {},
   "source": [
    "Remove items \n",
    "--pop() method removes the item with the specified kye name\n",
    "--popitem() method will remove last inserted item\n",
    "-- del delete the item with specified key name\n",
    "--clear() empties the dictionary\n",
    "\n",
    "-- del keyword will delete the dictionary if key name not specified\n",
    "\n"
   ]
  },
  {
   "cell_type": "code",
   "execution_count": 43,
   "id": "76d285eb-7422-4b48-bd0e-93566d59980d",
   "metadata": {},
   "outputs": [
    {
     "name": "stdout",
     "output_type": "stream",
     "text": [
      "{'classes': 'python', 'hackathon': 'yes'}\n"
     ]
    }
   ],
   "source": [
    "#remove item\n",
    "dic={\n",
    "    \"classes\":\"python\",\n",
    "    \"number\":6,\n",
    "    \"hackathon\":\"yes\"\n",
    "}\n",
    "dic.pop(\"number\")\n",
    "print(dic)"
   ]
  },
  {
   "cell_type": "code",
   "execution_count": 45,
   "id": "778ef8ba-acc7-40fc-a2b2-6b5a03f3cdcb",
   "metadata": {},
   "outputs": [
    {
     "name": "stdout",
     "output_type": "stream",
     "text": [
      "{'classes': 'python', 'number': 6}\n"
     ]
    }
   ],
   "source": [
    "#remove last item\n",
    "dic={\n",
    "    \"classes\":\"python\",\n",
    "    \"number\":6,\n",
    "    \"hackathon\":\"yes\"\n",
    "}\n",
    "dic.popitem()\n",
    "print(dic)\n"
   ]
  },
  {
   "cell_type": "code",
   "execution_count": 49,
   "id": "8e82f54e-6c16-4475-a494-2f27741b2b63",
   "metadata": {},
   "outputs": [
    {
     "name": "stdout",
     "output_type": "stream",
     "text": [
      "{'classes': 'python', 'hackathon': 'yes'}\n"
     ]
    }
   ],
   "source": [
    "#remove with del keyword\n",
    "dic={\n",
    "    \"classes\":\"python\",\n",
    "    \"number\":6,\n",
    "    \"hackathon\":\"yes\"\n",
    "}\n",
    "del dic[\"number\"]\n",
    "print(dic)"
   ]
  },
  {
   "cell_type": "code",
   "execution_count": 51,
   "id": "eabb01d5-5e02-4d68-9c80-c881f1e3a9ee",
   "metadata": {},
   "outputs": [
    {
     "name": "stdout",
     "output_type": "stream",
     "text": [
      "{}\n"
     ]
    }
   ],
   "source": [
    "#clear dictionary\n",
    "dic={\n",
    "    \"classes\":\"python\",\n",
    "    \"number\":6,\n",
    "    \"hackathon\":\"yes\"\n",
    "}\n",
    "dic.clear()\n",
    "print(dic)"
   ]
  },
  {
   "cell_type": "code",
   "execution_count": 53,
   "id": "fe1bf875-02a3-463f-95b5-a765e2602437",
   "metadata": {},
   "outputs": [
    {
     "ename": "NameError",
     "evalue": "name 'dic' is not defined",
     "output_type": "error",
     "traceback": [
      "\u001b[1;31m---------------------------------------------------------------------------\u001b[0m",
      "\u001b[1;31mNameError\u001b[0m                                 Traceback (most recent call last)",
      "Cell \u001b[1;32mIn[53], line 8\u001b[0m\n\u001b[0;32m      2\u001b[0m dic\u001b[38;5;241m=\u001b[39m{\n\u001b[0;32m      3\u001b[0m     \u001b[38;5;124m\"\u001b[39m\u001b[38;5;124mclasses\u001b[39m\u001b[38;5;124m\"\u001b[39m:\u001b[38;5;124m\"\u001b[39m\u001b[38;5;124mpython\u001b[39m\u001b[38;5;124m\"\u001b[39m,\n\u001b[0;32m      4\u001b[0m     \u001b[38;5;124m\"\u001b[39m\u001b[38;5;124mnumber\u001b[39m\u001b[38;5;124m\"\u001b[39m:\u001b[38;5;241m6\u001b[39m,\n\u001b[0;32m      5\u001b[0m     \u001b[38;5;124m\"\u001b[39m\u001b[38;5;124mhackathon\u001b[39m\u001b[38;5;124m\"\u001b[39m:\u001b[38;5;124m\"\u001b[39m\u001b[38;5;124myes\u001b[39m\u001b[38;5;124m\"\u001b[39m\n\u001b[0;32m      6\u001b[0m }\n\u001b[0;32m      7\u001b[0m \u001b[38;5;28;01mdel\u001b[39;00m dic\n\u001b[1;32m----> 8\u001b[0m \u001b[38;5;28mprint\u001b[39m(dic)\n",
      "\u001b[1;31mNameError\u001b[0m: name 'dic' is not defined"
     ]
    }
   ],
   "source": [
    "#delete dictionary\n",
    "dic={\n",
    "    \"classes\":\"python\",\n",
    "    \"number\":6,\n",
    "    \"hackathon\":\"yes\"\n",
    "}\n",
    "del dic\n",
    "print(dic)"
   ]
  },
  {
   "cell_type": "code",
   "execution_count": 57,
   "id": "5504e22c-f29e-42c9-b170-98e86acb88ec",
   "metadata": {},
   "outputs": [
    {
     "name": "stdout",
     "output_type": "stream",
     "text": [
      "{'classes': 'python', 'number': 6, 'hackathon': 'yes'}\n"
     ]
    }
   ],
   "source": [
    "dic={\n",
    "    \"classes\":\"python\",\n",
    "    \"number\":6,\n",
    "    \"hackathon\":\"yes\"\n",
    "}\n",
    "print(dic)\n"
   ]
  },
  {
   "cell_type": "code",
   "execution_count": null,
   "id": "c1285dbf-7287-4989-aa54-1dfaf3f43fad",
   "metadata": {},
   "outputs": [],
   "source": []
  }
 ],
 "metadata": {
  "kernelspec": {
   "display_name": "Python 3 (ipykernel)",
   "language": "python",
   "name": "python3"
  },
  "language_info": {
   "codemirror_mode": {
    "name": "ipython",
    "version": 3
   },
   "file_extension": ".py",
   "mimetype": "text/x-python",
   "name": "python",
   "nbconvert_exporter": "python",
   "pygments_lexer": "ipython3",
   "version": "3.12.7"
  }
 },
 "nbformat": 4,
 "nbformat_minor": 5
}
