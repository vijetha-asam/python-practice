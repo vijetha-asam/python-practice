{
 "cells": [
  {
   "cell_type": "code",
   "execution_count": 14,
   "id": "e335af11-6402-4d93-9442-475b2bb79b96",
   "metadata": {},
   "outputs": [
    {
     "name": "stdout",
     "output_type": "stream",
     "text": [
      "Welcome to python session\n"
     ]
    }
   ],
   "source": [
    "#print statment for \" Welcome to python session\"\n",
    "x= \"Welcome to\"\n",
    "y= \"python\"\n",
    "z= \"session\"\n",
    "print(x,y,z)"
   ]
  },
  {
   "cell_type": "code",
   "execution_count": 16,
   "id": "5ee1b488-18b8-48fa-9b42-8677df083378",
   "metadata": {},
   "outputs": [
    {
     "ename": "SyntaxError",
     "evalue": "invalid decimal literal (2404004762.py, line 3)",
     "output_type": "error",
     "traceback": [
      "\u001b[1;36m  Cell \u001b[1;32mIn[16], line 3\u001b[1;36m\u001b[0m\n\u001b[1;33m    2nd_class=\"Pandas\"\u001b[0m\n\u001b[1;37m    ^\u001b[0m\n\u001b[1;31mSyntaxError\u001b[0m\u001b[1;31m:\u001b[0m invalid decimal literal\n"
     ]
    }
   ],
   "source": [
    "# Create variable \"2nd-class\" and assign it a value of \"Pandas\"(should give error)\n",
    "\n",
    "2nd_class=\"Pandas\"\n",
    "print(2nd_class)\n"
   ]
  },
  {
   "cell_type": "code",
   "execution_count": 18,
   "id": "068a2a8b-5012-4226-a398-107f44812608",
   "metadata": {},
   "outputs": [
    {
     "name": "stdout",
     "output_type": "stream",
     "text": [
      "10\n"
     ]
    },
    {
     "data": {
      "text/plain": [
       "float"
      ]
     },
     "execution_count": 18,
     "metadata": {},
     "output_type": "execute_result"
    }
   ],
   "source": [
    "#Cast a float number into integer\n",
    "number=10.5\n",
    "number_cast=int(number)\n",
    "print(number_cast)\n",
    "type(number)\n"
   ]
  },
  {
   "cell_type": "code",
   "execution_count": 24,
   "id": "9da37bde-97c7-4837-92df-e1e4ae36c0bb",
   "metadata": {},
   "outputs": [
    {
     "ename": "TypeError",
     "evalue": "unsupported operand type(s) for +: 'int' and 'str'",
     "output_type": "error",
     "traceback": [
      "\u001b[1;31m---------------------------------------------------------------------------\u001b[0m",
      "\u001b[1;31mTypeError\u001b[0m                                 Traceback (most recent call last)",
      "Cell \u001b[1;32mIn[24], line 5\u001b[0m\n\u001b[0;32m      3\u001b[0m name\u001b[38;5;241m=\u001b[39m\u001b[38;5;124m\"\u001b[39m\u001b[38;5;124mPython\u001b[39m\u001b[38;5;124m\"\u001b[39m\n\u001b[0;32m      4\u001b[0m \u001b[38;5;66;03m#concatination\u001b[39;00m\n\u001b[1;32m----> 5\u001b[0m \u001b[38;5;28mprint\u001b[39m(number\u001b[38;5;241m+\u001b[39mname)\n",
      "\u001b[1;31mTypeError\u001b[0m: unsupported operand type(s) for +: 'int' and 'str'"
     ]
    }
   ],
   "source": [
    "#print a number and string using '+'(should give error)\n",
    "number=3\n",
    "name=\"Python\"\n",
    "#concatination\n",
    "print(number+name)"
   ]
  },
  {
   "cell_type": "code",
   "execution_count": 26,
   "id": "875b4006-b17b-492e-8ef7-230f92fc1a34",
   "metadata": {},
   "outputs": [
    {
     "name": "stdout",
     "output_type": "stream",
     "text": [
      "welcome to Python 3\n"
     ]
    }
   ],
   "source": [
    "#print using format\n",
    "print(\"welcome to {0} {1}\".format(name,number))\n"
   ]
  },
  {
   "cell_type": "code",
   "execution_count": 28,
   "id": "f3a8f1a5-650b-48ba-bc23-15aca3c9c4fd",
   "metadata": {},
   "outputs": [
    {
     "name": "stdout",
     "output_type": "stream",
     "text": [
      "welcome to 3 Python\n"
     ]
    }
   ],
   "source": [
    "#print using F-string\n",
    "print(f'welcome to {number} {name}')"
   ]
  },
  {
   "cell_type": "code",
   "execution_count": 32,
   "id": "057460e8-ad1f-47f4-beef-3368dbf82f2f",
   "metadata": {},
   "outputs": [
    {
     "name": "stdout",
     "output_type": "stream",
     "text": [
      "full  name is first last\n"
     ]
    }
   ],
   "source": [
    "#print using F-string\n",
    "firstName=\"first\"\n",
    "lastName=\"last\"\n",
    "print(f'full  name is {firstName} {lastName}')"
   ]
  },
  {
   "cell_type": "code",
   "execution_count": 43,
   "id": "2fee0e8d-0c0f-413d-9e36-f3d9368cc119",
   "metadata": {},
   "outputs": [
    {
     "name": "stdout",
     "output_type": "stream",
     "text": [
      "hython\n"
     ]
    }
   ],
   "source": [
    "#Replace \"p\" with \"h\" in the string \"python\" using replace function\n",
    "name=\"python\"\n",
    "new_name= name.replace(\"p\",\"h\")\n",
    "print(new_name)"
   ]
  },
  {
   "cell_type": "code",
   "execution_count": 45,
   "id": "c2e24c10-70aa-41fc-bdb9-ce0a70ce6f0a",
   "metadata": {},
   "outputs": [
    {
     "name": "stdout",
     "output_type": "stream",
     "text": [
      "['pandas', 'numpy', 'matplot', 'scipy']\n"
     ]
    }
   ],
   "source": [
    "#Remove 'seaborn' from given libraries \n",
    "libraries=['pandas','numpy','seaborn','matplot','scipy']\n",
    "libraries.remove('seaborn')\n",
    "print(libraries)"
   ]
  },
  {
   "cell_type": "code",
   "execution_count": 47,
   "id": "2db9e96e-ee7b-4e95-8355-888fe38a6527",
   "metadata": {},
   "outputs": [
    {
     "name": "stdout",
     "output_type": "stream",
     "text": [
      "[0, 3, 50, 100, 200, 300]\n"
     ]
    }
   ],
   "source": [
    "#Sort the list in descending order\n",
    "list=[100,300,50,0,200,3]\n",
    "list.sort()\n",
    "print(list)\n"
   ]
  },
  {
   "cell_type": "code",
   "execution_count": 34,
   "id": "12096769-64ee-44e2-8f68-ff92fee53b7b",
   "metadata": {},
   "outputs": [
    {
     "name": "stdout",
     "output_type": "stream",
     "text": [
      "Vijetha Asam SDET137\n"
     ]
    }
   ],
   "source": [
    "#Print your name and batch code\n",
    "print(\"Vijetha Asam SDET137\")"
   ]
  },
  {
   "cell_type": "code",
   "execution_count": 38,
   "id": "22e04f65-5971-4444-82f9-3293d7c766c5",
   "metadata": {},
   "outputs": [
    {
     "name": "stdout",
     "output_type": "stream",
     "text": [
      "snoisseS nohtyP\n"
     ]
    }
   ],
   "source": [
    "name=\"Python Sessions\"\n",
    "reverse_name=name[::-1]\n",
    "print(reverse_name)"
   ]
  },
  {
   "cell_type": "code",
   "execution_count": 40,
   "id": "e50d66d9-eefe-420b-86c6-8d9ad9b90f78",
   "metadata": {},
   "outputs": [
    {
     "name": "stdout",
     "output_type": "stream",
     "text": [
      "PYTHON SESSIONS\n"
     ]
    }
   ],
   "source": [
    "print(name.upper())"
   ]
  },
  {
   "cell_type": "code",
   "execution_count": 72,
   "id": "8452d18f-1088-4c9f-a04d-4895c73b39e6",
   "metadata": {},
   "outputs": [
    {
     "data": {
      "text/plain": [
       "{'firstName': 'Vijetha', 'lastname': 'Asam', 'track': 'SDET', 'batch': 137}"
      ]
     },
     "execution_count": 72,
     "metadata": {},
     "output_type": "execute_result"
    }
   ],
   "source": [
    "#Creating a dictionary \n",
    "My_info={\n",
    "    \"firstName\":\"Vijetha\",\n",
    "    \"lastname\":\"Asam\",\n",
    "    \"track\":\"SDET\",\n",
    "    \"batch\":137\n",
    "}\n",
    "My_info"
   ]
  },
  {
   "cell_type": "code",
   "execution_count": 68,
   "id": "abe5a86e-0323-4b4a-9330-251fd1aef47b",
   "metadata": {},
   "outputs": [
    {
     "data": {
      "text/plain": [
       "dict_keys(['firstName', 'lastname', 'track', 'batch'])"
      ]
     },
     "execution_count": 68,
     "metadata": {},
     "output_type": "execute_result"
    }
   ],
   "source": [
    "#Print dictionary keys\n",
    "My_info.keys()"
   ]
  },
  {
   "cell_type": "code",
   "execution_count": 70,
   "id": "e88969e6-d7ad-494d-99ae-463b4cd646b1",
   "metadata": {},
   "outputs": [
    {
     "data": {
      "text/plain": [
       "dict_values(['Vijetha', 'Asam', 'SDET', 137])"
      ]
     },
     "execution_count": 70,
     "metadata": {},
     "output_type": "execute_result"
    }
   ],
   "source": [
    "#print dictionary values\n",
    "My_info.values()"
   ]
  },
  {
   "cell_type": "code",
   "execution_count": null,
   "id": "888e4fac-56b4-43be-b955-611460684e99",
   "metadata": {},
   "outputs": [],
   "source": []
  }
 ],
 "metadata": {
  "kernelspec": {
   "display_name": "Python 3 (ipykernel)",
   "language": "python",
   "name": "python3"
  },
  "language_info": {
   "codemirror_mode": {
    "name": "ipython",
    "version": 3
   },
   "file_extension": ".py",
   "mimetype": "text/x-python",
   "name": "python",
   "nbconvert_exporter": "python",
   "pygments_lexer": "ipython3",
   "version": "3.12.7"
  }
 },
 "nbformat": 4,
 "nbformat_minor": 5
}
